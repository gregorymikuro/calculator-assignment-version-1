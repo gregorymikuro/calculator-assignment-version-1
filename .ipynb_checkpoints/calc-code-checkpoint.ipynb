{
 "cells": [
  {
   "cell_type": "code",
   "execution_count": null,
   "metadata": {},
   "outputs": [],
   "source": [
    "print (\"Select an operation to perform:\")\n",
    "print (\"1. ADD\")\n",
    "print (\"2. SUBTRACT\")\n",
    "print (\"3. MULTIPLY\")\n",
    "print (\"4. DIVIDE\")\n",
    "\n",
    "\n",
    "operation = input()\n",
    "\n",
    "if operation == \"1\":\n",
    "    # code for add\n",
    "    num1 = input(\"Enter first number: \")\n",
    "    num2 = input(\"Enter second number: \")\n",
    "    print(\"The sum is \" + str(int(num1) + int(num2)))\n",
    "\n",
    "elif operation == \"2\":\n",
    "    # code for subtract\n",
    "    num1 = input(\"Enter first number: \")\n",
    "    num2 = input(\"Enter second number: \")\n",
    "    print(\"The difference is \" + str(int(num1) - int(num2)))\n",
    "\n",
    "elif operation == \"3\":\n",
    "    # code for division\n",
    "    num1 = input(\"Enter first number: \")\n",
    "    num2 = input(\"Enter second number: \")\n",
    "    print(\"The product is \" + str(int(num1) / int(num2)))\n",
    "\n",
    "elif operation == \"4\":\n",
    "    # code for multiply\n",
    "    num1 = input(\"Enter first number: \")\n",
    "    num2 = input(\"Enter second number: \")\n",
    "    print(\"The result is \" + str(int(num1) * int(num2)))\n",
    "\n",
    "else:\n",
    "    print(\"Invalid Entry\")"
   ]
  },
  {
   "cell_type": "code",
   "execution_count": null,
   "metadata": {},
   "outputs": [],
   "source": []
  }
 ],
 "metadata": {
  "kernelspec": {
   "display_name": "Python (learn-env)",
   "language": "python",
   "name": "learn-env"
  },
  "language_info": {
   "codemirror_mode": {
    "name": "ipython",
    "version": 3
   },
   "file_extension": ".py",
   "mimetype": "text/x-python",
   "name": "python",
   "nbconvert_exporter": "python",
   "pygments_lexer": "ipython3",
   "version": "3.8.5"
  }
 },
 "nbformat": 4,
 "nbformat_minor": 4
}
